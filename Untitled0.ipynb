{
  "nbformat": 4,
  "nbformat_minor": 0,
  "metadata": {
    "colab": {
      "name": "Untitled0.ipynb",
      "provenance": [],
      "collapsed_sections": [],
      "mount_file_id": "1ZxdRrM8b7ioOeEGFz7d_90GMukt9gslf",
      "authorship_tag": "ABX9TyMuk2UTGr9t5i3yNmLW9tmI",
      "include_colab_link": true
    },
    "kernelspec": {
      "name": "python3",
      "display_name": "Python 3"
    }
  },
  "cells": [
    {
      "cell_type": "markdown",
      "metadata": {
        "id": "view-in-github",
        "colab_type": "text"
      },
      "source": [
        "<a href=\"https://colab.research.google.com/github/raj0kumar00/X/blob/master/Untitled0.ipynb\" target=\"_parent\"><img src=\"https://colab.research.google.com/assets/colab-badge.svg\" alt=\"Open In Colab\"/></a>"
      ]
    },
    {
      "cell_type": "code",
      "metadata": {
        "id": "6pKU55tLLG_i",
        "colab_type": "code",
        "colab": {}
      },
      "source": [
        "import json\n",
        "import logging\n",
        "logging.getLogger('wptools').setLevel(logging.WARNING)\n",
        "import pprint\n",
        "import re\n",
        "from bs4 import BeautifulSoup\n",
        "import os\n",
        "try:\n",
        "  import wptools\n",
        "except:\n",
        "  os.system(\"pip install wptools\")\n",
        "  import wptools\n",
        "try:\n",
        "  import wikipedia\n",
        "except:\n",
        "  os.system(\"pip install wikipedia\")\n",
        "  import wikipedia\n",
        "import requests\n",
        "import pandas as pd"
      ],
      "execution_count": 0,
      "outputs": []
    },
    {
      "cell_type": "code",
      "metadata": {
        "id": "XI3GS05DLetk",
        "colab_type": "code",
        "colab": {}
      },
      "source": [
        "with open(\"/content/drive/My Drive/wikipedia/db.json\", errors='replace') as dbopner:\n",
        "\tdata = dbopner.read()\n",
        "\tdb = json.loads(data)\n"
      ],
      "execution_count": 0,
      "outputs": []
    },
    {
      "cell_type": "code",
      "metadata": {
        "id": "C7cXZS-y0Co8",
        "colab_type": "code",
        "outputId": "ad82e9fd-b182-41ae-b90e-a1e620a016f6",
        "colab": {
          "base_uri": "https://localhost:8080/",
          "height": 237
        }
      },
      "source": [
        "for country in db:\n",
        "    citys = country['city']\n",
        "    country_url = country['country_url']\n",
        "    gdp_data = gdpscraper(country_url= country_url)\n",
        "    for city in citys:\n",
        "      city_url = city['url']\n",
        "      print(\"Url is : \",city_url)\n",
        "      try:\n",
        "        pop = popscraper(url= city_url)\n",
        "      except:\n",
        "        pop = infoboxscraper(url=city_url)\n",
        "      pop['Country'] = country['name']\n",
        "      pop['GDP'] = gdp_data['gdp']\n",
        "      pop['GDP_Capita'] = gdp_data['gdp_capita']\n",
        "      pop['GDP_Nominal'] = gdp_data['gdp_nominal']\n",
        "      pop['GDP_Nominal_Capita'] = gdp_data['gdp_nominal_capita']\n",
        "      pop['Micro_Resion'] = city['Zone']\n",
        "      print(pop)\n",
        "      break\n",
        "    break"
      ],
      "execution_count": 5,
      "outputs": [
        {
          "output_type": "error",
          "ename": "NameError",
          "evalue": "ignored",
          "traceback": [
            "\u001b[0;31m---------------------------------------------------------------------------\u001b[0m",
            "\u001b[0;31mNameError\u001b[0m                                 Traceback (most recent call last)",
            "\u001b[0;32m<ipython-input-5-c89d4c08b921>\u001b[0m in \u001b[0;36m<module>\u001b[0;34m()\u001b[0m\n\u001b[1;32m      2\u001b[0m     \u001b[0mcitys\u001b[0m \u001b[0;34m=\u001b[0m \u001b[0mcountry\u001b[0m\u001b[0;34m[\u001b[0m\u001b[0;34m'city'\u001b[0m\u001b[0;34m]\u001b[0m\u001b[0;34m\u001b[0m\u001b[0;34m\u001b[0m\u001b[0m\n\u001b[1;32m      3\u001b[0m     \u001b[0mcountry_url\u001b[0m \u001b[0;34m=\u001b[0m \u001b[0mcountry\u001b[0m\u001b[0;34m[\u001b[0m\u001b[0;34m'country_url'\u001b[0m\u001b[0;34m]\u001b[0m\u001b[0;34m\u001b[0m\u001b[0;34m\u001b[0m\u001b[0m\n\u001b[0;32m----> 4\u001b[0;31m     \u001b[0mgdp_data\u001b[0m \u001b[0;34m=\u001b[0m \u001b[0mgdpscraper\u001b[0m\u001b[0;34m(\u001b[0m\u001b[0mcountry_url\u001b[0m\u001b[0;34m=\u001b[0m \u001b[0mcountry_url\u001b[0m\u001b[0;34m)\u001b[0m\u001b[0;34m\u001b[0m\u001b[0;34m\u001b[0m\u001b[0m\n\u001b[0m\u001b[1;32m      5\u001b[0m     \u001b[0;32mfor\u001b[0m \u001b[0mcity\u001b[0m \u001b[0;32min\u001b[0m \u001b[0mcitys\u001b[0m\u001b[0;34m:\u001b[0m\u001b[0;34m\u001b[0m\u001b[0;34m\u001b[0m\u001b[0m\n\u001b[1;32m      6\u001b[0m       \u001b[0mcity_url\u001b[0m \u001b[0;34m=\u001b[0m \u001b[0mcity\u001b[0m\u001b[0;34m[\u001b[0m\u001b[0;34m'url'\u001b[0m\u001b[0;34m]\u001b[0m\u001b[0;34m\u001b[0m\u001b[0;34m\u001b[0m\u001b[0m\n",
            "\u001b[0;31mNameError\u001b[0m: name 'gdpscraper' is not defined"
          ]
        }
      ]
    },
    {
      "cell_type": "code",
      "metadata": {
        "id": "haRSBG7CLfRB",
        "colab_type": "code",
        "colab": {}
      },
      "source": [
        "def gdpscraper(country_url):\n",
        "    country_name = country_url.split(\"/\")[-1]\n",
        "    info_temp = wptools.page(country_name).get_parse()\n",
        "    infobox = info_temp.data['infobox']\n",
        "    try:\n",
        "      Gdp_ppp= re.findall(r\"}}(.*?){{\",infobox['GDP_PPP'])[0]\n",
        "    except:\n",
        "      Gdp_ppp = infobox['GDP_PPP']\n",
        "    try:\n",
        "      Gdp_pp_capita= re.findall(r\"}}(.*?){{\",infobox['GDP_PPP_per_capita'])[0]\n",
        "    except:\n",
        "      Gdp_pp_capita = infobox['GDP_PPP_per_capita']\n",
        "\n",
        "    Gdp_pp_year = infobox['GDP_PPP_year']\n",
        "    try:\n",
        "      Gdp_nominal= re.findall(r\"}}(.*?){{\",infobox['GDP_nominal'])[0]\n",
        "    except:\n",
        "      Gdp_nominal = infobox['GDP_nominal']\n",
        "    try:\n",
        "      Gdp_nominal_capita= re.findall(r\"}}(.*?){{\",infobox['GDP_nominal_per_capita'])[0]\n",
        "    except:\n",
        "      Gdp_nominal_capita = infobox['GDP_nominal_per_capita']\n",
        "    Gdp_nominal_year = infobox['GDP_nominal_year']\n",
        "    final = {\n",
        "             \"cp_name\": country_name,\n",
        "             \"gdp\": Gdp_ppp,\n",
        "             \"gdp_capita\": Gdp_pp_capita,\n",
        "             \"gdp_nominal\": Gdp_nominal,\n",
        "             \"gdp_nominal_capita\": Gdp_nominal_capita\n",
        "    }\n",
        "    \n",
        "    return final\n"
      ],
      "execution_count": 0,
      "outputs": []
    },
    {
      "cell_type": "code",
      "metadata": {
        "id": "stdwUjcrxD9m",
        "colab_type": "code",
        "colab": {}
      },
      "source": [
        "def popscraper(url):\n",
        "  page = requests.get(url)\n",
        "  soup = BeautifulSoup(page.content, 'html.parser')\n",
        "  ta = soup.find_all('table',class_=\"wikitable\")[0]\n",
        "  data = pd.read_html(str(ta))[0]\n",
        "  return data\n",
        "def infoboxscraper(url):\n",
        "      city_url_name = url.split(\"/\")[-1]\n",
        "      city_info_temp = wptools.page(city_url_name).get_parse()\n",
        "      city_infobox = city_info_temp.data['infobox']\n",
        "      region = city_infobox['name']\n",
        "      region_capital = city_infobox['seat'].replace(\"[\",\"\").replace(\"]\",\"\").split(\",\")[0].strip()\n",
        "      population = city_infobox['population_total']\n",
        "      region_area_km = city_infobox['area_total_km2']\n",
        "      final = {\n",
        "          \"region\" : region,\n",
        "          \"region_capital\" : region_capital,\n",
        "          \"population\" : population,\n",
        "          \"region_area_km\" : region_area_km\n",
        "      }\n",
        "      f1 = pd.DataFrame([final.values()])\n",
        "      return f1"
      ],
      "execution_count": 0,
      "outputs": []
    },
    {
      "cell_type": "code",
      "metadata": {
        "id": "c1iMbXHN1dcL",
        "colab_type": "code",
        "outputId": "8230cec7-e74a-4227-8894-4c97a42a607a",
        "colab": {
          "base_uri": "https://localhost:8080/",
          "height": 497
        }
      },
      "source": [
        "a=infoboxscraper(url=\"https://en.wikipedia.org/wiki/Northwest_(Vietnam)\")"
      ],
      "execution_count": 10,
      "outputs": [
        {
          "output_type": "stream",
          "text": [
            "en.wikipedia.org (parse) Northwest_(Vietnam)\n",
            "Northwest (Vietnam) (en) data\n",
            "{\n",
            "  iwlinks: <list(1)> https://commons.wikimedia.org/wiki/Category:T...\n",
            "  pageid: 5622661\n",
            "  parsetree: <str(2535)> <root><template><title>Unreferenced</titl...\n",
            "  requests: <list(1)> parse\n",
            "  title: Northwest (Vietnam)\n",
            "  wikibase: Q1194522\n",
            "  wikidata_url: https://www.wikidata.org/wiki/Q1194522\n",
            "  wikitext: <str(1579)> {{Unreferenced|date=December 2009}}[[Image...\n",
            "}\n"
          ],
          "name": "stderr"
        },
        {
          "output_type": "error",
          "ename": "TypeError",
          "evalue": "ignored",
          "traceback": [
            "\u001b[0;31m---------------------------------------------------------------------------\u001b[0m",
            "\u001b[0;31mTypeError\u001b[0m                                 Traceback (most recent call last)",
            "\u001b[0;32m<ipython-input-10-31f8ed6ee368>\u001b[0m in \u001b[0;36m<module>\u001b[0;34m()\u001b[0m\n\u001b[0;32m----> 1\u001b[0;31m \u001b[0ma\u001b[0m\u001b[0;34m=\u001b[0m\u001b[0minfoboxscraper\u001b[0m\u001b[0;34m(\u001b[0m\u001b[0murl\u001b[0m\u001b[0;34m=\u001b[0m\u001b[0;34m\"https://en.wikipedia.org/wiki/Northwest_(Vietnam)\"\u001b[0m\u001b[0;34m)\u001b[0m\u001b[0;34m\u001b[0m\u001b[0;34m\u001b[0m\u001b[0m\n\u001b[0m",
            "\u001b[0;32m<ipython-input-9-68dcd379f767>\u001b[0m in \u001b[0;36minfoboxscraper\u001b[0;34m(url)\u001b[0m\n\u001b[1;32m      9\u001b[0m       \u001b[0mcity_info_temp\u001b[0m \u001b[0;34m=\u001b[0m \u001b[0mwptools\u001b[0m\u001b[0;34m.\u001b[0m\u001b[0mpage\u001b[0m\u001b[0;34m(\u001b[0m\u001b[0mcity_url_name\u001b[0m\u001b[0;34m)\u001b[0m\u001b[0;34m.\u001b[0m\u001b[0mget_parse\u001b[0m\u001b[0;34m(\u001b[0m\u001b[0;34m)\u001b[0m\u001b[0;34m\u001b[0m\u001b[0;34m\u001b[0m\u001b[0m\n\u001b[1;32m     10\u001b[0m       \u001b[0mcity_infobox\u001b[0m \u001b[0;34m=\u001b[0m \u001b[0mcity_info_temp\u001b[0m\u001b[0;34m.\u001b[0m\u001b[0mdata\u001b[0m\u001b[0;34m[\u001b[0m\u001b[0;34m'infobox'\u001b[0m\u001b[0;34m]\u001b[0m\u001b[0;34m\u001b[0m\u001b[0;34m\u001b[0m\u001b[0m\n\u001b[0;32m---> 11\u001b[0;31m       \u001b[0mregion\u001b[0m \u001b[0;34m=\u001b[0m \u001b[0mcity_infobox\u001b[0m\u001b[0;34m[\u001b[0m\u001b[0;34m'name'\u001b[0m\u001b[0;34m]\u001b[0m\u001b[0;34m\u001b[0m\u001b[0;34m\u001b[0m\u001b[0m\n\u001b[0m\u001b[1;32m     12\u001b[0m       \u001b[0mregion_capital\u001b[0m \u001b[0;34m=\u001b[0m \u001b[0mcity_infobox\u001b[0m\u001b[0;34m[\u001b[0m\u001b[0;34m'seat'\u001b[0m\u001b[0;34m]\u001b[0m\u001b[0;34m.\u001b[0m\u001b[0mreplace\u001b[0m\u001b[0;34m(\u001b[0m\u001b[0;34m\"[\"\u001b[0m\u001b[0;34m,\u001b[0m\u001b[0;34m\"\"\u001b[0m\u001b[0;34m)\u001b[0m\u001b[0;34m.\u001b[0m\u001b[0mreplace\u001b[0m\u001b[0;34m(\u001b[0m\u001b[0;34m\"]\"\u001b[0m\u001b[0;34m,\u001b[0m\u001b[0;34m\"\"\u001b[0m\u001b[0;34m)\u001b[0m\u001b[0;34m.\u001b[0m\u001b[0msplit\u001b[0m\u001b[0;34m(\u001b[0m\u001b[0;34m\",\"\u001b[0m\u001b[0;34m)\u001b[0m\u001b[0;34m[\u001b[0m\u001b[0;36m0\u001b[0m\u001b[0;34m]\u001b[0m\u001b[0;34m.\u001b[0m\u001b[0mstrip\u001b[0m\u001b[0;34m(\u001b[0m\u001b[0;34m)\u001b[0m\u001b[0;34m\u001b[0m\u001b[0;34m\u001b[0m\u001b[0m\n\u001b[1;32m     13\u001b[0m       \u001b[0mpopulation\u001b[0m \u001b[0;34m=\u001b[0m \u001b[0mcity_infobox\u001b[0m\u001b[0;34m[\u001b[0m\u001b[0;34m'population_total'\u001b[0m\u001b[0;34m]\u001b[0m\u001b[0;34m\u001b[0m\u001b[0;34m\u001b[0m\u001b[0m\n",
            "\u001b[0;31mTypeError\u001b[0m: 'NoneType' object is not subscriptable"
          ]
        }
      ]
    },
    {
      "cell_type": "code",
      "metadata": {
        "id": "WuKU8RNM2Azh",
        "colab_type": "code",
        "colab": {}
      },
      "source": [
        "final = {\n",
        "          \"region\" : \"a\",\n",
        "          \"region_capital\" : \"b\",\n",
        "          \"population\" : \"c\",\n",
        "          \"region_area_km\" : \"d\"\n",
        "      }"
      ],
      "execution_count": 0,
      "outputs": []
    },
    {
      "cell_type": "code",
      "metadata": {
        "id": "4bajlsNv2HSl",
        "colab_type": "code",
        "colab": {
          "base_uri": "https://localhost:8080/",
          "height": 139
        },
        "outputId": "1c867041-1443-40ed-d966-4aa141cc4a99"
      },
      "source": [
        "final"
      ],
      "execution_count": 15,
      "outputs": [
        {
          "output_type": "execute_result",
          "data": {
            "text/plain": [
              "{'population': 'c',\n",
              " 'region': 'a',\n",
              " 'region_area_km': 'd',\n",
              " 'region_capital': 'b'}"
            ]
          },
          "metadata": {
            "tags": []
          },
          "execution_count": 14
        },
        {
          "output_type": "execute_result",
          "data": {
            "text/plain": [
              "{'population': 'c',\n",
              " 'region': 'a',\n",
              " 'region_area_km': 'd',\n",
              " 'region_capital': 'b'}"
            ]
          },
          "metadata": {
            "tags": []
          },
          "execution_count": 15
        }
      ]
    },
    {
      "cell_type": "code",
      "metadata": {
        "id": "v7LSd87SVyai",
        "colab_type": "code",
        "colab": {
          "base_uri": "https://localhost:8080/",
          "height": 81
        },
        "outputId": "78171c1f-4532-46f7-df99-fb9ea8ac7202"
      },
      "source": [
        "pd.DataFrame([final.values()])"
      ],
      "execution_count": 21,
      "outputs": [
        {
          "output_type": "execute_result",
          "data": {
            "text/html": [
              "<div>\n",
              "<style scoped>\n",
              "    .dataframe tbody tr th:only-of-type {\n",
              "        vertical-align: middle;\n",
              "    }\n",
              "\n",
              "    .dataframe tbody tr th {\n",
              "        vertical-align: top;\n",
              "    }\n",
              "\n",
              "    .dataframe thead th {\n",
              "        text-align: right;\n",
              "    }\n",
              "</style>\n",
              "<table border=\"1\" class=\"dataframe\">\n",
              "  <thead>\n",
              "    <tr style=\"text-align: right;\">\n",
              "      <th></th>\n",
              "      <th>0</th>\n",
              "      <th>1</th>\n",
              "      <th>2</th>\n",
              "      <th>3</th>\n",
              "    </tr>\n",
              "  </thead>\n",
              "  <tbody>\n",
              "    <tr>\n",
              "      <th>0</th>\n",
              "      <td>a</td>\n",
              "      <td>b</td>\n",
              "      <td>c</td>\n",
              "      <td>d</td>\n",
              "    </tr>\n",
              "  </tbody>\n",
              "</table>\n",
              "</div>"
            ],
            "text/plain": [
              "   0  1  2  3\n",
              "0  a  b  c  d"
            ]
          },
          "metadata": {
            "tags": []
          },
          "execution_count": 21
        }
      ]
    },
    {
      "cell_type": "code",
      "metadata": {
        "id": "vYEgjfqMXJbu",
        "colab_type": "code",
        "colab": {}
      },
      "source": [
        ""
      ],
      "execution_count": 0,
      "outputs": []
    }
  ]
}